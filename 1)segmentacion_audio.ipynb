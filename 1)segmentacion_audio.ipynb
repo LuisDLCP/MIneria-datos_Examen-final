{
  "nbformat": 4,
  "nbformat_minor": 0,
  "metadata": {
    "colab": {
      "name": "1)segmentacion_audio.ipynb",
      "provenance": [],
      "collapsed_sections": [],
      "include_colab_link": true
    },
    "kernelspec": {
      "name": "python3",
      "display_name": "Python 3"
    },
    "language_info": {
      "name": "python"
    }
  },
  "cells": [
    {
      "cell_type": "markdown",
      "metadata": {
        "id": "view-in-github",
        "colab_type": "text"
      },
      "source": [
        "<a href=\"https://colab.research.google.com/github/LuisDLCP/MIneria-datos_Examen-final/blob/main/1)segmentacion_audio.ipynb\" target=\"_parent\"><img src=\"https://colab.research.google.com/assets/colab-badge.svg\" alt=\"Open In Colab\"/></a>"
      ]
    },
    {
      "cell_type": "markdown",
      "metadata": {
        "id": "WNQGYa0flQoB"
      },
      "source": [
        "# EXAMEN FINAL DE MINERIA DE DATOS Y APRENDIZAJE AUTOMATICO \n"
      ]
    },
    {
      "cell_type": "code",
      "metadata": {
        "colab": {
          "base_uri": "https://localhost:8080/"
        },
        "id": "5BAgUYZafMhz",
        "outputId": "d7437ccc-c48d-40ab-d121-6d9204d0185e"
      },
      "source": [
        "from google.colab import drive\n",
        "drive.mount('/content/drive/')"
      ],
      "execution_count": null,
      "outputs": [
        {
          "output_type": "stream",
          "name": "stdout",
          "text": [
            "Mounted at /content/drive/\n"
          ]
        }
      ]
    },
    {
      "cell_type": "code",
      "metadata": {
        "colab": {
          "base_uri": "https://localhost:8080/"
        },
        "id": "PGkcsJT4cjD6",
        "outputId": "1fcef607-39f3-43f1-817e-ab2d395f3949"
      },
      "source": [
        "root_path=\"./drive/MyDrive/Master_Program_CC/AprendizajeAutomatico/Examen_final/RawData/\"\n",
        "!ls {root_path}"
      ],
      "execution_count": null,
      "outputs": [
        {
          "output_type": "stream",
          "name": "stdout",
          "text": [
            "data_original1_parte1.mp4  data_original1_parte2.wav  data_test.mp4\n",
            "data_original1_parte1.wav  data_segmentada\t      data_test.wav\n",
            "data_original1_parte2.mp4  data_test\n"
          ]
        }
      ]
    },
    {
      "cell_type": "markdown",
      "source": [
        "## 1) Convert video (mp4) to audio (wav) file "
      ],
      "metadata": {
        "id": "bvn4CW8a_x6v"
      }
    },
    {
      "cell_type": "code",
      "source": [
        "import subprocess"
      ],
      "metadata": {
        "id": "yRnA4yXC9RqQ"
      },
      "execution_count": null,
      "outputs": []
    },
    {
      "cell_type": "code",
      "source": [
        "video_file = root_path+\"data_original1.mp4\"\n",
        "audio_file = root_path+\"data_original1.wav\""
      ],
      "metadata": {
        "id": "4YRlN7Z3908V"
      },
      "execution_count": null,
      "outputs": []
    },
    {
      "cell_type": "code",
      "source": [
        "#command = f\"ffmpeg -i {input_file} -ab 160k -ac 2 -ar 44100 -vn audio.wav\"\n",
        "command = f\"ffmpeg -i {video_file} -q:a 0 -map a {audio_file}\"\n",
        "\n",
        "subprocess.call(command, shell=True)"
      ],
      "metadata": {
        "colab": {
          "base_uri": "https://localhost:8080/"
        },
        "id": "YaZYWkgw9VjL",
        "outputId": "ee02436d-5dd0-46c6-f241-1842478b910c"
      },
      "execution_count": null,
      "outputs": [
        {
          "output_type": "execute_result",
          "data": {
            "text/plain": [
              "0"
            ]
          },
          "metadata": {},
          "execution_count": 5
        }
      ]
    },
    {
      "cell_type": "markdown",
      "metadata": {
        "id": "VGxB2gIFg3Qe"
      },
      "source": [
        "## 2. Segmentacion en bloques de 15s de duracion"
      ]
    },
    {
      "cell_type": "code",
      "source": [
        "pip install pydub "
      ],
      "metadata": {
        "colab": {
          "base_uri": "https://localhost:8080/"
        },
        "id": "sfuSetS8sAoR",
        "outputId": "bce76baa-37ac-4483-b561-5a0abd4888d1"
      },
      "execution_count": null,
      "outputs": [
        {
          "output_type": "stream",
          "name": "stdout",
          "text": [
            "Collecting pydub\n",
            "  Downloading pydub-0.25.1-py2.py3-none-any.whl (32 kB)\n",
            "Installing collected packages: pydub\n",
            "Successfully installed pydub-0.25.1\n"
          ]
        }
      ]
    },
    {
      "cell_type": "code",
      "source": [
        "from pydub import AudioSegment\n",
        "archivo_audio = AudioSegment.from_wav(audio_file)"
      ],
      "metadata": {
        "id": "imhZQVmM0pkG"
      },
      "execution_count": null,
      "outputs": []
    },
    {
      "cell_type": "code",
      "source": [
        "import os \n",
        "to=1000 # ms\n",
        "period = 15*to # change the value in seconds \n",
        "pathSegment = root_path + \"data_test/\" # output path \n",
        "person = [\"luis\",\"guiomar\",\"juan-carlos\"]\n",
        "\n",
        "time_total = len(archivo_audio)\n",
        "time_current = 0*to # change the value in seconds\n",
        "#time_current = int(time_total/2) # change the value in seconds\n",
        "file_name_counter = 0\n",
        "i = 0\n",
        "numFiles_block = int(time_total/period/len(person))\n",
        "\n",
        "while time_current < time_total:\n",
        "  segmento = archivo_audio[time_current:(time_current+period)]\n",
        "  # File name \n",
        "  if i<numFiles_block:\n",
        "    pathSegment2 = pathSegment + person[0] + \"/\"\n",
        "  elif i<2*numFiles_block:\n",
        "    pathSegment2 = pathSegment + person[1] + \"/\"\n",
        "  else:\n",
        "    pathSegment2 = pathSegment + person[2] + \"/\"\n",
        "\n",
        "  out_filename = pathSegment2 + os.path.basename(audio_file).split('.')[0] + \"_\" + str(file_name_counter).zfill(4) + \".wav\"\n",
        "  segmento.export(out_filename, format=\"wav\")\n",
        "\n",
        "  time_current += period\n",
        "  file_name_counter += 1\n",
        "  i += 1\n",
        "print('Done!')"
      ],
      "metadata": {
        "id": "mED0BN_IsAiY"
      },
      "execution_count": null,
      "outputs": []
    },
    {
      "cell_type": "code",
      "source": [
        ""
      ],
      "metadata": {
        "id": "JgATcDP4ERfm"
      },
      "execution_count": null,
      "outputs": []
    },
    {
      "cell_type": "code",
      "source": [
        ""
      ],
      "metadata": {
        "id": "PI99o1kkC5C9"
      },
      "execution_count": null,
      "outputs": []
    },
    {
      "cell_type": "code",
      "source": [
        "# Corroborar los archivos generados \n",
        "from glob import glob "
      ],
      "metadata": {
        "id": "9C3-kK5K0Tgi"
      },
      "execution_count": null,
      "outputs": []
    },
    {
      "cell_type": "code",
      "source": [
        "pathSegment2 = pathSegment + person[2] + \"/\"\n",
        "files = glob(pathSegment2+\"*wav\")\n",
        "files[:2]"
      ],
      "metadata": {
        "colab": {
          "base_uri": "https://localhost:8080/"
        },
        "id": "BT1tnkIO0TZb",
        "outputId": "1b89c21a-6c8f-4a12-b210-1583cc9becb9"
      },
      "execution_count": null,
      "outputs": [
        {
          "output_type": "execute_result",
          "data": {
            "text/plain": [
              "['./drive/MyDrive/Master_Program_CC/AprendizajeAutomatico/Examen_final/RawData/data_segmentada/juan-carlos/data_original1_1395.wav',\n",
              " './drive/MyDrive/Master_Program_CC/AprendizajeAutomatico/Examen_final/RawData/data_segmentada/juan-carlos/data_original1_1396.wav']"
            ]
          },
          "metadata": {},
          "execution_count": 28
        }
      ]
    },
    {
      "cell_type": "code",
      "source": [
        "files2 = sorted(files)\n",
        "print(len(files2))\n",
        "print(files2[0])\n",
        "print(files2[-1])"
      ],
      "metadata": {
        "colab": {
          "base_uri": "https://localhost:8080/"
        },
        "id": "Xk6FnASS0TTz",
        "outputId": "d7eeccac-0ac4-414e-8257-45c9882dfebf"
      },
      "execution_count": null,
      "outputs": [
        {
          "output_type": "stream",
          "name": "stdout",
          "text": [
            "432\n",
            "./drive/MyDrive/Master_Program_CC/AprendizajeAutomatico/Examen_final/RawData/data_segmentada/juan-carlos/data_original1_1395.wav\n",
            "./drive/MyDrive/Master_Program_CC/AprendizajeAutomatico/Examen_final/RawData/data_segmentada/juan-carlos/data_original1_2142.wav\n"
          ]
        }
      ]
    },
    {
      "cell_type": "code",
      "source": [
        ""
      ],
      "metadata": {
        "id": "mIIzQQGJ0TBi"
      },
      "execution_count": null,
      "outputs": []
    },
    {
      "cell_type": "code",
      "source": [
        "# Look for certain segmented files \n",
        "import os \n",
        "path_aux = root_path+\"data_segmentada/\"\n",
        "lista_archivos = glob(path_aux+\"*wav\")\n",
        "for archivo in lista_archivos:\n",
        "  file_name = os.path.basename(archivo).split('_')[-1]\n",
        "  #print(file_name)\n",
        "  if file_name[:3]=='s04':\n",
        "    print(archivo)"
      ],
      "metadata": {
        "colab": {
          "base_uri": "https://localhost:8080/"
        },
        "id": "lvXDDOuRERUz",
        "outputId": "16f30f78-2b06-479b-e8fc-2c7906fee1fb"
      },
      "execution_count": null,
      "outputs": [
        {
          "output_type": "stream",
          "name": "stdout",
          "text": [
            "./drive/MyDrive/Master_Program_CC/AprendizajeAutomatico/Examen_final/RawData/data_segmentada/data_original1_0376_s04.wav\n",
            "./drive/MyDrive/Master_Program_CC/AprendizajeAutomatico/Examen_final/RawData/data_segmentada/data_original1_0177_s04.wav\n"
          ]
        }
      ]
    },
    {
      "cell_type": "code",
      "source": [
        ""
      ],
      "metadata": {
        "id": "tvTGojocGbyL"
      },
      "execution_count": null,
      "outputs": []
    },
    {
      "cell_type": "code",
      "source": [
        ""
      ],
      "metadata": {
        "id": "nbo-bgRqGbnS"
      },
      "execution_count": null,
      "outputs": []
    },
    {
      "cell_type": "markdown",
      "source": [
        "## Forma alternativa de segmentar\n",
        "Ojo: no logra procesar para archivos wav de entrada muy grandes"
      ],
      "metadata": {
        "id": "zFH9kNNGCsua"
      }
    },
    {
      "cell_type": "code",
      "metadata": {
        "id": "RpwTFdXwPZjB"
      },
      "source": [
        "pip install librosa soundfile"
      ],
      "execution_count": null,
      "outputs": []
    },
    {
      "cell_type": "code",
      "source": [
        "# Process a file \n",
        "import librosa, librosa.display\n",
        "import soundfile as sf\n",
        "import numpy as np\n",
        "import os\n",
        "\n",
        "pathSegment = root_path + \"data_segmentada/\" # output path \n",
        "\n",
        "# First load the file\n",
        "audio, sr = librosa.load(audio_file)\n",
        "\n",
        "# Period: 15s \n",
        "buffer = 15 * sr\n",
        "\n",
        "samples_total = len(audio)\n",
        "samples_wrote = 0\n",
        "counter = 855 #1\n",
        "\n",
        "while samples_wrote < samples_total:\n",
        "\n",
        "    #check if the buffer is not exceeding total samples \n",
        "    if buffer > (samples_total - samples_wrote):\n",
        "        buffer = samples_total - samples_wrote\n",
        "\n",
        "    block = audio[samples_wrote : (samples_wrote + buffer)]\n",
        "    out_filename = pathSegment + os.path.basename(audio_file).split('.')[0] + \"_\" + str(counter).zfill(4) + \".wav\"\n",
        "\n",
        "    sf.write(out_filename, block, sr)\n",
        "\n",
        "    counter += 1\n",
        "    samples_wrote += buffer"
      ],
      "metadata": {
        "id": "yPd_pdIYtq96"
      },
      "execution_count": null,
      "outputs": []
    },
    {
      "cell_type": "code",
      "source": [
        ""
      ],
      "metadata": {
        "id": "S0AflKX1GYhw"
      },
      "execution_count": null,
      "outputs": []
    },
    {
      "cell_type": "code",
      "metadata": {
        "id": "6gb45M7UPax3"
      },
      "source": [
        "# Process many files at once \n",
        "import librosa, librosa.display\n",
        "import soundfile as sf\n",
        "import numpy as np\n",
        "import os\n",
        "\n",
        "pathAudio = root_path\n",
        "files = librosa.util.find_files(pathAudio, ext=['wav'])\n",
        "files = np.asarray(files)\n",
        "\n",
        "pathSegment = root_path + \"data_segmentada/\"\n",
        "if not os.path.exists(pathSegment):\n",
        "    os.makedirs(pathSegment)\n",
        "\n",
        "for file in files: \n",
        "\n",
        "    # First load the file\n",
        "    audio, sr = librosa.load(file)\n",
        "\n",
        "    # Get number of samples for 2 seconds; replace 2 by any number\n",
        "    buffer = 15 * sr\n",
        "\n",
        "    samples_total = len(audio)\n",
        "    samples_wrote = 0\n",
        "    counter = 855 #1\n",
        "\n",
        "    while samples_wrote < samples_total:\n",
        "\n",
        "        #check if the buffer is not exceeding total samples \n",
        "        if buffer > (samples_total - samples_wrote):\n",
        "            buffer = samples_total - samples_wrote\n",
        "\n",
        "        block = audio[samples_wrote : (samples_wrote + buffer)]\n",
        "        out_filename = pathSegment + os.path.basename(file).split('.')[0] + \"_\" + str(counter).zfill(4) + \".wav\"\n",
        "\n",
        "        sf.write(out_filename, block, sr)\n",
        "\n",
        "        counter += 1\n",
        "        samples_wrote += buffer"
      ],
      "execution_count": null,
      "outputs": []
    }
  ]
}