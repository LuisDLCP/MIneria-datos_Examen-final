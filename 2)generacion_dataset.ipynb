{
  "nbformat": 4,
  "nbformat_minor": 0,
  "metadata": {
    "colab": {
      "name": "2)generacion_dataset.ipynb",
      "provenance": [],
      "collapsed_sections": [],
      "authorship_tag": "ABX9TyOz92C13+DEWERbtQQ6/RtW",
      "include_colab_link": true
    },
    "kernelspec": {
      "name": "python3",
      "display_name": "Python 3"
    },
    "language_info": {
      "name": "python"
    }
  },
  "cells": [
    {
      "cell_type": "markdown",
      "metadata": {
        "id": "view-in-github",
        "colab_type": "text"
      },
      "source": [
        "<a href=\"https://colab.research.google.com/github/LuisDLCP/MIneria-datos_Examen-final/blob/main/2)generacion_dataset.ipynb\" target=\"_parent\"><img src=\"https://colab.research.google.com/assets/colab-badge.svg\" alt=\"Open In Colab\"/></a>"
      ]
    },
    {
      "cell_type": "code",
      "execution_count": null,
      "metadata": {
        "colab": {
          "base_uri": "https://localhost:8080/"
        },
        "id": "ZnfyUb2mmac8",
        "outputId": "293dc7c6-15c9-47ab-cb20-21fc0e974872"
      },
      "outputs": [
        {
          "output_type": "stream",
          "name": "stdout",
          "text": [
            "Drive already mounted at /content/drive/; to attempt to forcibly remount, call drive.mount(\"/content/drive/\", force_remount=True).\n"
          ]
        }
      ],
      "source": [
        "from google.colab import drive\n",
        "drive.mount('/content/drive/')"
      ]
    },
    {
      "cell_type": "code",
      "source": [
        "root_path=\"./drive/MyDrive/Master_Program_CC/AprendizajeAutomatico/Examen_final/RawData/\"\n",
        "!ls {root_path}"
      ],
      "metadata": {
        "colab": {
          "base_uri": "https://localhost:8080/"
        },
        "id": "tWfmiYremm9s",
        "outputId": "e4d6e8b4-8f8d-4652-826b-41ceba933d1f"
      },
      "execution_count": null,
      "outputs": [
        {
          "output_type": "stream",
          "name": "stdout",
          "text": [
            "data_original1_parte1.mp4  data_original1_parte2.mp4  data_segmentada\n",
            "data_original1_parte1.wav  data_original1_parte2.wav\n"
          ]
        }
      ]
    },
    {
      "cell_type": "code",
      "source": [
        "import librosa, librosa.display\n",
        "import soundfile as sf\n",
        "import numpy as np\n",
        "import pandas as pd\n",
        "import os\n",
        "from scipy.signal import argrelextrema\n",
        "from scipy.fft import fft"
      ],
      "metadata": {
        "id": "o1N1maiYneh1"
      },
      "execution_count": null,
      "outputs": []
    },
    {
      "cell_type": "markdown",
      "source": [
        "## 1) Read wav files"
      ],
      "metadata": {
        "id": "wWZ5m3hjm4kb"
      }
    },
    {
      "cell_type": "code",
      "source": [
        "pathAudio = root_path + \"data_segmentada/\"\n",
        "files = librosa.util.find_files(pathAudio, ext=['wav'], recurse=False)\n",
        "files = sorted(np.asarray(files))\n",
        "print(files[0])\n",
        "print(files[-1])"
      ],
      "metadata": {
        "colab": {
          "base_uri": "https://localhost:8080/"
        },
        "id": "fhQodid_m3-X",
        "outputId": "eecbf999-932f-4f89-988a-8fd5df1ae7a2"
      },
      "execution_count": null,
      "outputs": [
        {
          "output_type": "stream",
          "name": "stdout",
          "text": [
            "/content/drive/MyDrive/Master_Program_CC/AprendizajeAutomatico/Examen_final/RawData/data_segmentada/data_original1_0001_s00.wav\n",
            "/content/drive/MyDrive/Master_Program_CC/AprendizajeAutomatico/Examen_final/RawData/data_segmentada/data_original1_2142_s00.wav\n"
          ]
        }
      ]
    },
    {
      "cell_type": "code",
      "source": [
        "len(files)"
      ],
      "metadata": {
        "colab": {
          "base_uri": "https://localhost:8080/"
        },
        "id": "tVFAX7620_CJ",
        "outputId": "3d894d5a-7f18-413b-fe62-19f53f47ae1c"
      },
      "execution_count": null,
      "outputs": [
        {
          "output_type": "execute_result",
          "data": {
            "text/plain": [
              "2142"
            ]
          },
          "metadata": {},
          "execution_count": 73
        }
      ]
    },
    {
      "cell_type": "markdown",
      "source": [
        "## 2) Generate the dataset"
      ],
      "metadata": {
        "id": "XEf3mHDCusYr"
      }
    },
    {
      "cell_type": "code",
      "source": [
        "media = []\n",
        "media_absoluta = []\n",
        "mediana = []\n",
        "mediana_absoluta = []\n",
        "std = []\n",
        "varianza = []\n",
        "kurtosis = []\n",
        "skewness = []\n",
        "cruce_cero = []\n",
        "percentil0 = []\n",
        "percentil1 = []\n",
        "percentil2 = []\n",
        "percentil3 = []\n",
        "percentil4 = []\n",
        "percentil5 = []\n",
        "percentil6 = []\n",
        "percentil7 = []\n",
        "percentil8 = []\n",
        "percentil9 = []\n",
        "percentil10 = []\n",
        "rms = []\n",
        "spe = []\n",
        "maxfreq = []\n",
        "\n",
        "nombre_archivo = []\n",
        "nombre_clase = []\n",
        "\n",
        "for file in files:\n",
        "    # First load the file\n",
        "    segment, sr = librosa.load(file)\n",
        "    \n",
        "    # Then, we get the attributes (time domain)\n",
        "    cruce_cero.append(sum(librosa.core.zero_crossings(segment)))\n",
        "    rms.append(np.mean(librosa.feature.rms(y=segment)))\n",
        "    media.append(np.mean(segment))\n",
        "    mediana.append(np.median(segment))\n",
        "    varianza.append(np.std(segment)**2)\n",
        "    mediana_absoluta.append(np.mean(abs(segment)))\n",
        "    media_absoluta.append(np.median(abs(segment)))\n",
        "    std.append(np.std(segment))\n",
        "\n",
        "    segment_df = pd.DataFrame(segment)\n",
        "    skewness.append(segment_df.skew(axis=0).values[0])\n",
        "    kurtosis.append(segment_df.kurt(axis=0).values[0])\n",
        "    percentil0.append(segment_df.quantile(q=0.0, axis=0, numeric_only=True, interpolation='linear').values[0])\n",
        "    percentil1.append(segment_df.quantile(q=0.1, axis=0, numeric_only=True, interpolation='linear').values[0])\n",
        "    percentil2.append(segment_df.quantile(q=0.2, axis=0, numeric_only=True, interpolation='linear').values[0])\n",
        "    percentil3.append(segment_df.quantile(q=0.3, axis=0, numeric_only=True, interpolation='linear').values[0])\n",
        "    percentil4.append(segment_df.quantile(q=0.4, axis=0, numeric_only=True, interpolation='linear').values[0])\n",
        "    percentil5.append(segment_df.quantile(q=0.5, axis=0, numeric_only=True, interpolation='linear').values[0])\n",
        "    percentil6.append(segment_df.quantile(q=0.6, axis=0, numeric_only=True, interpolation='linear').values[0])\n",
        "    percentil7.append(segment_df.quantile(q=0.7, axis=0, numeric_only=True, interpolation='linear').values[0])\n",
        "    percentil8.append(segment_df.quantile(q=0.8, axis=0, numeric_only=True, interpolation='linear').values[0])\n",
        "    percentil9.append(segment_df.quantile(q=0.9, axis=0, numeric_only=True, interpolation='linear').values[0])\n",
        "    percentil10.append(segment_df.quantile(q=1.0, axis=0, numeric_only=True, interpolation='linear').values[0])\n",
        "\n",
        "    # After that, we get other attributes (frequency domain)\n",
        "    # a) Spectral energy\n",
        "    #      Apply a FFT \n",
        "    y_fft = np.abs(fft(segment)) # magnitude \n",
        "    y_fft_aux = y_fft/max(y_fft) # Normalize between [0,1]\n",
        "    #     Get the spectral energy \n",
        "    spe_value = np.mean(y_fft_aux)\n",
        "    spe.append(spe_value)\n",
        "\n",
        "    # b) Maximum peak frequency\n",
        "    #      Select all peaks \n",
        "    m=argrelextrema(y_fft,np.greater, mode='wrap')\n",
        "    yf_peaks = [y_fft[m] for i in m]\n",
        "    #      Select the first 2 peaks \n",
        "    var_aux1=list(yf_peaks[0])\n",
        "    indices_aux = sorted(var_aux1, reverse=True)[:4]\n",
        "    if len(set(indices_aux))>2:\n",
        "      indices_aux = sorted(list(set(indices_aux)),reverse=True)[:-1]\n",
        "    else:\n",
        "      indices_aux = sorted(list(set(indices_aux)),reverse=True)\n",
        "    indices = [var_aux1.index(value) for value in indices_aux]\n",
        "    x_peak=[list(m[0])[i] for i in indices]\n",
        "    y_peak=indices_aux\n",
        "    #       Select the max freq peak \n",
        "    if x_peak[y_peak.index(max(y_peak))]==0:\n",
        "      if max(y_peak)/min(y_peak)>15:\n",
        "        freq_value = x_peak[y_peak.index(max(y_peak))]\n",
        "      else:\n",
        "        freq_value = x_peak[y_peak.index(min(y_peak))]\n",
        "    else:\n",
        "      freq_value = x_peak[y_peak.index(max(y_peak))]\n",
        "    \n",
        "    maxfreq.append(freq_value)\n",
        "\n",
        "    # id and class \n",
        "    nombre_archivo.append(os.path.basename(file))\n",
        "    \n",
        "    code = os.path.basename(file).split('_')[-1].split('.')[0]\n",
        "    clase = int(code[-2:])\n",
        "    nombre_clase.append(clase)\n",
        "\n",
        "df = pd.DataFrame(list(zip(\n",
        "    nombre_archivo,\n",
        "    media,\n",
        "    media_absoluta,\n",
        "    mediana,\n",
        "    mediana_absoluta,\n",
        "    rms,\n",
        "    std,\n",
        "    varianza,\n",
        "    kurtosis,\n",
        "    skewness,\n",
        "    cruce_cero,\n",
        "    percentil0,\n",
        "    percentil1,\n",
        "    percentil2,\n",
        "    percentil3,\n",
        "    percentil4,\n",
        "    percentil5,\n",
        "    percentil6,\n",
        "    percentil7,\n",
        "    percentil8,\n",
        "    percentil9,\n",
        "    percentil10,\n",
        "    spe,\n",
        "    maxfreq,\n",
        "    nombre_clase\n",
        "    )),\n",
        "    columns =[\n",
        "        'id',\n",
        "        'media',\n",
        "        'media_absoluta',\n",
        "        'mediana',\n",
        "        'mediana_absoluta',\n",
        "        'rms',\n",
        "        'std',\n",
        "        'varianza',\n",
        "        'kurtosis',\n",
        "        'skewness',\n",
        "        'cruce_cero',\n",
        "        'percentil0',\n",
        "        'percentil1',\n",
        "        'percentil2',\n",
        "        'percentil3',\n",
        "        'percentil4',\n",
        "        'percentil5',\n",
        "        'percentil6',\n",
        "        'percentil7',\n",
        "        'percentil8',\n",
        "        'percentil9',\n",
        "        'percentil10',\n",
        "        'energia_spect',\n",
        "        'max_frec',\n",
        "        'clase'\n",
        "        ])\n",
        "df.head()"
      ],
      "metadata": {
        "id": "HR-RqjKpusAL",
        "colab": {
          "base_uri": "https://localhost:8080/",
          "height": 270
        },
        "outputId": "8ca17516-e962-4f57-f11b-17e92dfa40a6"
      },
      "execution_count": null,
      "outputs": [
        {
          "output_type": "execute_result",
          "data": {
            "text/html": [
              "\n",
              "  <div id=\"df-d1253fee-f77b-4d62-9c5f-ae6eed2b4e2f\">\n",
              "    <div class=\"colab-df-container\">\n",
              "      <div>\n",
              "<style scoped>\n",
              "    .dataframe tbody tr th:only-of-type {\n",
              "        vertical-align: middle;\n",
              "    }\n",
              "\n",
              "    .dataframe tbody tr th {\n",
              "        vertical-align: top;\n",
              "    }\n",
              "\n",
              "    .dataframe thead th {\n",
              "        text-align: right;\n",
              "    }\n",
              "</style>\n",
              "<table border=\"1\" class=\"dataframe\">\n",
              "  <thead>\n",
              "    <tr style=\"text-align: right;\">\n",
              "      <th></th>\n",
              "      <th>id</th>\n",
              "      <th>media</th>\n",
              "      <th>media_absoluta</th>\n",
              "      <th>mediana</th>\n",
              "      <th>mediana_absoluta</th>\n",
              "      <th>rms</th>\n",
              "      <th>std</th>\n",
              "      <th>varianza</th>\n",
              "      <th>kurtosis</th>\n",
              "      <th>skewness</th>\n",
              "      <th>cruce_cero</th>\n",
              "      <th>percentil0</th>\n",
              "      <th>percentil1</th>\n",
              "      <th>percentil2</th>\n",
              "      <th>percentil3</th>\n",
              "      <th>percentil4</th>\n",
              "      <th>percentil5</th>\n",
              "      <th>percentil6</th>\n",
              "      <th>percentil7</th>\n",
              "      <th>percentil8</th>\n",
              "      <th>percentil9</th>\n",
              "      <th>percentil10</th>\n",
              "      <th>energia_spect</th>\n",
              "      <th>max_frec</th>\n",
              "      <th>clase</th>\n",
              "    </tr>\n",
              "  </thead>\n",
              "  <tbody>\n",
              "    <tr>\n",
              "      <th>0</th>\n",
              "      <td>data_original1_0001_s00.wav</td>\n",
              "      <td>-0.000830</td>\n",
              "      <td>0.024475</td>\n",
              "      <td>-0.000824</td>\n",
              "      <td>0.054316</td>\n",
              "      <td>0.071308</td>\n",
              "      <td>0.087267</td>\n",
              "      <td>0.007616</td>\n",
              "      <td>3.306944</td>\n",
              "      <td>0.492705</td>\n",
              "      <td>26317</td>\n",
              "      <td>-0.491669</td>\n",
              "      <td>-0.102145</td>\n",
              "      <td>-0.050201</td>\n",
              "      <td>-0.017517</td>\n",
              "      <td>-0.004242</td>\n",
              "      <td>-0.000824</td>\n",
              "      <td>0.002014</td>\n",
              "      <td>0.007538</td>\n",
              "      <td>0.035339</td>\n",
              "      <td>0.102325</td>\n",
              "      <td>0.612396</td>\n",
              "      <td>0.021406</td>\n",
              "      <td>2944</td>\n",
              "      <td>0</td>\n",
              "    </tr>\n",
              "    <tr>\n",
              "      <th>1</th>\n",
              "      <td>data_original1_0002_s00.wav</td>\n",
              "      <td>-0.000550</td>\n",
              "      <td>0.028992</td>\n",
              "      <td>-0.000671</td>\n",
              "      <td>0.055377</td>\n",
              "      <td>0.071874</td>\n",
              "      <td>0.085361</td>\n",
              "      <td>0.007287</td>\n",
              "      <td>2.410013</td>\n",
              "      <td>0.410182</td>\n",
              "      <td>23520</td>\n",
              "      <td>-0.415405</td>\n",
              "      <td>-0.103485</td>\n",
              "      <td>-0.053528</td>\n",
              "      <td>-0.019958</td>\n",
              "      <td>-0.004883</td>\n",
              "      <td>-0.000671</td>\n",
              "      <td>0.002625</td>\n",
              "      <td>0.011230</td>\n",
              "      <td>0.042328</td>\n",
              "      <td>0.104309</td>\n",
              "      <td>0.546204</td>\n",
              "      <td>0.019570</td>\n",
              "      <td>3679</td>\n",
              "      <td>0</td>\n",
              "    </tr>\n",
              "    <tr>\n",
              "      <th>2</th>\n",
              "      <td>data_original1_0003_s00.wav</td>\n",
              "      <td>0.002821</td>\n",
              "      <td>0.052185</td>\n",
              "      <td>0.000397</td>\n",
              "      <td>0.083982</td>\n",
              "      <td>0.106171</td>\n",
              "      <td>0.127086</td>\n",
              "      <td>0.016151</td>\n",
              "      <td>2.457605</td>\n",
              "      <td>-0.337466</td>\n",
              "      <td>22655</td>\n",
              "      <td>-0.841522</td>\n",
              "      <td>-0.137177</td>\n",
              "      <td>-0.069427</td>\n",
              "      <td>-0.025208</td>\n",
              "      <td>-0.004303</td>\n",
              "      <td>0.000397</td>\n",
              "      <td>0.006348</td>\n",
              "      <td>0.034973</td>\n",
              "      <td>0.086096</td>\n",
              "      <td>0.156921</td>\n",
              "      <td>0.689453</td>\n",
              "      <td>0.017571</td>\n",
              "      <td>5124</td>\n",
              "      <td>0</td>\n",
              "    </tr>\n",
              "    <tr>\n",
              "      <th>3</th>\n",
              "      <td>data_original1_0004_s00.wav</td>\n",
              "      <td>0.002699</td>\n",
              "      <td>0.062958</td>\n",
              "      <td>0.001434</td>\n",
              "      <td>0.091461</td>\n",
              "      <td>0.116961</td>\n",
              "      <td>0.133240</td>\n",
              "      <td>0.017753</td>\n",
              "      <td>2.330213</td>\n",
              "      <td>-0.423787</td>\n",
              "      <td>26064</td>\n",
              "      <td>-0.847504</td>\n",
              "      <td>-0.158325</td>\n",
              "      <td>-0.079315</td>\n",
              "      <td>-0.029144</td>\n",
              "      <td>-0.003876</td>\n",
              "      <td>0.001434</td>\n",
              "      <td>0.015503</td>\n",
              "      <td>0.051422</td>\n",
              "      <td>0.095306</td>\n",
              "      <td>0.156189</td>\n",
              "      <td>0.673950</td>\n",
              "      <td>0.028427</td>\n",
              "      <td>4346</td>\n",
              "      <td>0</td>\n",
              "    </tr>\n",
              "    <tr>\n",
              "      <th>4</th>\n",
              "      <td>data_original1_0005_s00.wav</td>\n",
              "      <td>-0.000354</td>\n",
              "      <td>0.062561</td>\n",
              "      <td>-0.000275</td>\n",
              "      <td>0.092237</td>\n",
              "      <td>0.118884</td>\n",
              "      <td>0.132588</td>\n",
              "      <td>0.017579</td>\n",
              "      <td>2.085448</td>\n",
              "      <td>-0.001486</td>\n",
              "      <td>25055</td>\n",
              "      <td>-0.817627</td>\n",
              "      <td>-0.157715</td>\n",
              "      <td>-0.087189</td>\n",
              "      <td>-0.043182</td>\n",
              "      <td>-0.013062</td>\n",
              "      <td>-0.000275</td>\n",
              "      <td>0.011658</td>\n",
              "      <td>0.041962</td>\n",
              "      <td>0.086700</td>\n",
              "      <td>0.157654</td>\n",
              "      <td>0.860596</td>\n",
              "      <td>0.022101</td>\n",
              "      <td>4561</td>\n",
              "      <td>0</td>\n",
              "    </tr>\n",
              "  </tbody>\n",
              "</table>\n",
              "</div>\n",
              "      <button class=\"colab-df-convert\" onclick=\"convertToInteractive('df-d1253fee-f77b-4d62-9c5f-ae6eed2b4e2f')\"\n",
              "              title=\"Convert this dataframe to an interactive table.\"\n",
              "              style=\"display:none;\">\n",
              "        \n",
              "  <svg xmlns=\"http://www.w3.org/2000/svg\" height=\"24px\"viewBox=\"0 0 24 24\"\n",
              "       width=\"24px\">\n",
              "    <path d=\"M0 0h24v24H0V0z\" fill=\"none\"/>\n",
              "    <path d=\"M18.56 5.44l.94 2.06.94-2.06 2.06-.94-2.06-.94-.94-2.06-.94 2.06-2.06.94zm-11 1L8.5 8.5l.94-2.06 2.06-.94-2.06-.94L8.5 2.5l-.94 2.06-2.06.94zm10 10l.94 2.06.94-2.06 2.06-.94-2.06-.94-.94-2.06-.94 2.06-2.06.94z\"/><path d=\"M17.41 7.96l-1.37-1.37c-.4-.4-.92-.59-1.43-.59-.52 0-1.04.2-1.43.59L10.3 9.45l-7.72 7.72c-.78.78-.78 2.05 0 2.83L4 21.41c.39.39.9.59 1.41.59.51 0 1.02-.2 1.41-.59l7.78-7.78 2.81-2.81c.8-.78.8-2.07 0-2.86zM5.41 20L4 18.59l7.72-7.72 1.47 1.35L5.41 20z\"/>\n",
              "  </svg>\n",
              "      </button>\n",
              "      \n",
              "  <style>\n",
              "    .colab-df-container {\n",
              "      display:flex;\n",
              "      flex-wrap:wrap;\n",
              "      gap: 12px;\n",
              "    }\n",
              "\n",
              "    .colab-df-convert {\n",
              "      background-color: #E8F0FE;\n",
              "      border: none;\n",
              "      border-radius: 50%;\n",
              "      cursor: pointer;\n",
              "      display: none;\n",
              "      fill: #1967D2;\n",
              "      height: 32px;\n",
              "      padding: 0 0 0 0;\n",
              "      width: 32px;\n",
              "    }\n",
              "\n",
              "    .colab-df-convert:hover {\n",
              "      background-color: #E2EBFA;\n",
              "      box-shadow: 0px 1px 2px rgba(60, 64, 67, 0.3), 0px 1px 3px 1px rgba(60, 64, 67, 0.15);\n",
              "      fill: #174EA6;\n",
              "    }\n",
              "\n",
              "    [theme=dark] .colab-df-convert {\n",
              "      background-color: #3B4455;\n",
              "      fill: #D2E3FC;\n",
              "    }\n",
              "\n",
              "    [theme=dark] .colab-df-convert:hover {\n",
              "      background-color: #434B5C;\n",
              "      box-shadow: 0px 1px 3px 1px rgba(0, 0, 0, 0.15);\n",
              "      filter: drop-shadow(0px 1px 2px rgba(0, 0, 0, 0.3));\n",
              "      fill: #FFFFFF;\n",
              "    }\n",
              "  </style>\n",
              "\n",
              "      <script>\n",
              "        const buttonEl =\n",
              "          document.querySelector('#df-d1253fee-f77b-4d62-9c5f-ae6eed2b4e2f button.colab-df-convert');\n",
              "        buttonEl.style.display =\n",
              "          google.colab.kernel.accessAllowed ? 'block' : 'none';\n",
              "\n",
              "        async function convertToInteractive(key) {\n",
              "          const element = document.querySelector('#df-d1253fee-f77b-4d62-9c5f-ae6eed2b4e2f');\n",
              "          const dataTable =\n",
              "            await google.colab.kernel.invokeFunction('convertToInteractive',\n",
              "                                                     [key], {});\n",
              "          if (!dataTable) return;\n",
              "\n",
              "          const docLinkHtml = 'Like what you see? Visit the ' +\n",
              "            '<a target=\"_blank\" href=https://colab.research.google.com/notebooks/data_table.ipynb>data table notebook</a>'\n",
              "            + ' to learn more about interactive tables.';\n",
              "          element.innerHTML = '';\n",
              "          dataTable['output_type'] = 'display_data';\n",
              "          await google.colab.output.renderOutput(dataTable, element);\n",
              "          const docLink = document.createElement('div');\n",
              "          docLink.innerHTML = docLinkHtml;\n",
              "          element.appendChild(docLink);\n",
              "        }\n",
              "      </script>\n",
              "    </div>\n",
              "  </div>\n",
              "  "
            ],
            "text/plain": [
              "                            id     media  ...  max_frec  clase\n",
              "0  data_original1_0001_s00.wav -0.000830  ...      2944      0\n",
              "1  data_original1_0002_s00.wav -0.000550  ...      3679      0\n",
              "2  data_original1_0003_s00.wav  0.002821  ...      5124      0\n",
              "3  data_original1_0004_s00.wav  0.002699  ...      4346      0\n",
              "4  data_original1_0005_s00.wav -0.000354  ...      4561      0\n",
              "\n",
              "[5 rows x 25 columns]"
            ]
          },
          "metadata": {},
          "execution_count": 74
        }
      ]
    },
    {
      "cell_type": "code",
      "source": [
        "df.info()"
      ],
      "metadata": {
        "id": "nGZGW9SOrq8K",
        "colab": {
          "base_uri": "https://localhost:8080/"
        },
        "outputId": "68e94cd6-ce6f-4e88-8031-2e9799eee8ed"
      },
      "execution_count": null,
      "outputs": [
        {
          "output_type": "stream",
          "name": "stdout",
          "text": [
            "<class 'pandas.core.frame.DataFrame'>\n",
            "RangeIndex: 2142 entries, 0 to 2141\n",
            "Data columns (total 25 columns):\n",
            " #   Column            Non-Null Count  Dtype  \n",
            "---  ------            --------------  -----  \n",
            " 0   id                2142 non-null   object \n",
            " 1   media             2142 non-null   float64\n",
            " 2   media_absoluta    2142 non-null   float64\n",
            " 3   mediana           2142 non-null   float64\n",
            " 4   mediana_absoluta  2142 non-null   float64\n",
            " 5   rms               2142 non-null   float64\n",
            " 6   std               2142 non-null   float64\n",
            " 7   varianza          2142 non-null   float64\n",
            " 8   kurtosis          2142 non-null   float64\n",
            " 9   skewness          2142 non-null   float64\n",
            " 10  cruce_cero        2142 non-null   int64  \n",
            " 11  percentil0        2142 non-null   float64\n",
            " 12  percentil1        2142 non-null   float64\n",
            " 13  percentil2        2142 non-null   float64\n",
            " 14  percentil3        2142 non-null   float64\n",
            " 15  percentil4        2142 non-null   float64\n",
            " 16  percentil5        2142 non-null   float64\n",
            " 17  percentil6        2142 non-null   float64\n",
            " 18  percentil7        2142 non-null   float64\n",
            " 19  percentil8        2142 non-null   float64\n",
            " 20  percentil9        2142 non-null   float64\n",
            " 21  percentil10       2142 non-null   float64\n",
            " 22  energia_spect     2142 non-null   float64\n",
            " 23  max_frec          2142 non-null   int64  \n",
            " 24  clase             2142 non-null   int64  \n",
            "dtypes: float64(21), int64(3), object(1)\n",
            "memory usage: 418.5+ KB\n"
          ]
        }
      ]
    },
    {
      "cell_type": "code",
      "source": [
        "# Save as excel \n",
        "dataset_path=\"./drive/MyDrive/Master_Program_CC/AprendizajeAutomatico/Examen_final/Dataset/\"\n",
        "df.to_excel(dataset_path + 'Dataset.xlsx', index=False)\n",
        "df.to_csv(dataset_path + 'Dataset.csv')"
      ],
      "metadata": {
        "id": "qmckYX7JO4a2"
      },
      "execution_count": null,
      "outputs": []
    },
    {
      "cell_type": "code",
      "source": [
        ""
      ],
      "metadata": {
        "id": "gW-hSol0O4UI"
      },
      "execution_count": null,
      "outputs": []
    },
    {
      "cell_type": "markdown",
      "source": [
        "## ANEXOS "
      ],
      "metadata": {
        "id": "GDbVc5ziOrZz"
      }
    },
    {
      "cell_type": "markdown",
      "source": [
        "### 1) Graficas de la FFT"
      ],
      "metadata": {
        "id": "aAdZz6JZOtuD"
      }
    },
    {
      "cell_type": "code",
      "source": [
        "import matplotlib.pyplot as plt\n",
        "from scipy.signal import butter, filtfilt\n",
        "from scipy.fft import fft\n",
        "from scipy.signal import argrelextrema"
      ],
      "metadata": {
        "id": "57lGtXcJucDk"
      },
      "execution_count": null,
      "outputs": []
    },
    {
      "cell_type": "code",
      "source": [
        "x=np.linspace(0,15,len(segment))\n",
        "plt.plot(x,segment)\n",
        "plt.ylabel(\"Amplitude\")\n",
        "plt.xlabel(\"Time (s)\")\n",
        "plt.title(\"Audio segment\")\n",
        "plt.grid()"
      ],
      "metadata": {
        "id": "nrl9Ybplubzy",
        "colab": {
          "base_uri": "https://localhost:8080/",
          "height": 295
        },
        "outputId": "72115633-d2ed-4afa-8aa0-692cd116935a"
      },
      "execution_count": null,
      "outputs": [
        {
          "output_type": "display_data",
          "data": {
            "image/png": "[encoded data removed]",
            "text/plain": [
              "<Figure size 432x288 with 1 Axes>"
            ]
          },
          "metadata": {
            "needs_background": "light"
          }
        }
      ]
    },
    {
      "cell_type": "code",
      "source": [
        "# FFT\n",
        "y_fft = np.abs(fft(segment)) # magnitude"
      ],
      "metadata": {
        "id": "jem93ftm_1w8"
      },
      "execution_count": null,
      "outputs": []
    },
    {
      "cell_type": "code",
      "source": [
        "plt.plot(y_fft)"
      ],
      "metadata": {
        "colab": {
          "base_uri": "https://localhost:8080/",
          "height": 282
        },
        "id": "1p4zwYObC0_L",
        "outputId": "8637ae1f-97d3-436d-b2c6-09c872903430"
      },
      "execution_count": null,
      "outputs": [
        {
          "output_type": "execute_result",
          "data": {
            "text/plain": [
              "[<matplotlib.lines.Line2D at 0x7fa3edb7d8d0>]"
            ]
          },
          "metadata": {},
          "execution_count": 41
        },
        {
          "output_type": "display_data",
          "data": {
            "image/png": "[encoded data removed]",
            "text/plain": [
              "<Figure size 432x288 with 1 Axes>"
            ]
          },
          "metadata": {
            "needs_background": "light"
          }
        }
      ]
    },
    {
      "cell_type": "code",
      "source": [
        "yf = fft(segment)\n",
        "# Select all peaks \n",
        "m=argrelextrema(np.abs(yf),np.greater, mode='wrap')\n",
        "yf_peaks = [np.abs(yf)[m] for i in m]\n",
        "# Select the first 2 peaks \n",
        "var_aux1=list(yf_peaks[0])\n",
        "indices_aux = sorted(var_aux1, reverse=True)[:4]\n",
        "if len(set(indices_aux))>2:\n",
        "  indices_aux = sorted(list(set(indices_aux)),reverse=True)[:-1]\n",
        "else:\n",
        "  indices_aux = sorted(list(set(indices_aux)),reverse=True)\n",
        "indices = [var_aux1.index(value) for value in indices_aux]\n",
        "x_peak=[list(m[0])[i] for i in indices]\n",
        "y_peak=indices_aux\n",
        "\n",
        "fig,ax=plt.subplots()\n",
        "plt.plot(np.abs(yf),label='espectro')\n",
        "plt.plot(x_peak,y_peak,'rs')\n",
        "plt.xlabel(\"Frequency\")\n",
        "plt.ylabel(\"Magnitude\")\n",
        "plt.title(\"Audio signal spectrum\")\n",
        "for i in range(len(x_peak)):\n",
        "  ax.annotate(f\"({round(x_peak[i],1)},{round(y_peak[i],1):.1f})\",xy=(x_peak[i],y_peak[i]),xycoords='data')\n",
        "plt.legend()\n",
        "plt.grid()\n",
        "plt.savefig(\"fig_fft.png\", bbox_inches='tight', fancybox=True, shadow=True)"
      ],
      "metadata": {
        "colab": {
          "base_uri": "https://localhost:8080/",
          "height": 295
        },
        "id": "GyE2AtPVC06z",
        "outputId": "36f27a32-d931-408a-ef3e-1f6676b25b52"
      },
      "execution_count": null,
      "outputs": [
        {
          "output_type": "display_data",
          "data": {
            "image/png": "[encoded data removed]",
            "text/plain": [
              "<Figure size 432x288 with 1 Axes>"
            ]
          },
          "metadata": {
            "needs_background": "light"
          }
        }
      ]
    },
    {
      "cell_type": "code",
      "source": [
        ""
      ],
      "metadata": {
        "id": "r53aAG7rC0yd"
      },
      "execution_count": null,
      "outputs": []
    },
    {
      "cell_type": "code",
      "source": [
        ""
      ],
      "metadata": {
        "id": "Uyz8nKG5Awwd"
      },
      "execution_count": null,
      "outputs": []
    }
  ]
}