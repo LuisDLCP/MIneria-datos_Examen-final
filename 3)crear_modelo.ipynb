{
  "nbformat": 4,
  "nbformat_minor": 0,
  "metadata": {
    "colab": {
      "name": "3)crear_modelo.ipynb",
      "provenance": [],
      "authorship_tag": "ABX9TyPjZxQZX4unW+sIAMC8ypIP",
      "include_colab_link": true
    },
    "kernelspec": {
      "name": "python3",
      "display_name": "Python 3"
    },
    "language_info": {
      "name": "python"
    }
  },
  "cells": [
    {
      "cell_type": "markdown",
      "metadata": {
        "id": "view-in-github",
        "colab_type": "text"
      },
      "source": [
        "<a href=\"https://colab.research.google.com/github/LuisDLCP/MIneria-datos_Examen-final/blob/main/3)crear_modelo.ipynb\" target=\"_parent\"><img src=\"https://colab.research.google.com/assets/colab-badge.svg\" alt=\"Open In Colab\"/></a>"
      ]
    },
    {
      "cell_type": "code",
      "execution_count": null,
      "metadata": {
        "colab": {
          "base_uri": "https://localhost:8080/"
        },
        "id": "frTtDG9UumOc",
        "outputId": "5b3782b9-4f17-4512-8ddd-f9e34efee223"
      },
      "outputs": [
        {
          "output_type": "stream",
          "name": "stdout",
          "text": [
            "Mounted at /content/drive/\n"
          ]
        }
      ],
      "source": [
        "from google.colab import drive\n",
        "drive.mount('/content/drive/')"
      ]
    },
    {
      "cell_type": "code",
      "source": [
        "root_path=\"./drive/MyDrive/Master_Program_CC/AprendizajeAutomatico/Examen_final/\"\n",
        "dataset_path = root_path + \"Dataset/\"\n",
        "!ls {dataset_path}"
      ],
      "metadata": {
        "colab": {
          "base_uri": "https://localhost:8080/"
        },
        "id": "gosjGj26u1Fd",
        "outputId": "1eea1589-e7ce-437f-a83d-915f28cbfc4c"
      },
      "execution_count": null,
      "outputs": [
        {
          "output_type": "stream",
          "name": "stdout",
          "text": [
            "Dataset2.csv  Dataset2.xlsx  Dataset.csv  Dataset.xlsx\n"
          ]
        }
      ]
    },
    {
      "cell_type": "markdown",
      "source": [
        "## 1) Import the dataset"
      ],
      "metadata": {
        "id": "800Cd7GNvWDn"
      }
    },
    {
      "cell_type": "code",
      "source": [
        "import pandas as pd \n",
        "import numpy as np"
      ],
      "metadata": {
        "id": "F_drOv1wvVpu"
      },
      "execution_count": null,
      "outputs": []
    },
    {
      "cell_type": "code",
      "source": [
        "df = pd.read_excel(dataset_path + \"Dataset2.xlsx\")\n",
        "df.head()"
      ],
      "metadata": {
        "colab": {
          "base_uri": "https://localhost:8080/",
          "height": 270
        },
        "id": "UZqXEyGHvBgE",
        "outputId": "c053c4e1-6ab2-416f-f3cc-cf32e1a5e440"
      },
      "execution_count": null,
      "outputs": [
        {
          "output_type": "execute_result",
          "data": {
            "text/html": [
              "\n",
              "  <div id=\"df-01c2172f-4a63-4fd9-9181-619ba507031f\">\n",
              "    <div class=\"colab-df-container\">\n",
              "      <div>\n",
              "<style scoped>\n",
              "    .dataframe tbody tr th:only-of-type {\n",
              "        vertical-align: middle;\n",
              "    }\n",
              "\n",
              "    .dataframe tbody tr th {\n",
              "        vertical-align: top;\n",
              "    }\n",
              "\n",
              "    .dataframe thead th {\n",
              "        text-align: right;\n",
              "    }\n",
              "</style>\n",
              "<table border=\"1\" class=\"dataframe\">\n",
              "  <thead>\n",
              "    <tr style=\"text-align: right;\">\n",
              "      <th></th>\n",
              "      <th>id</th>\n",
              "      <th>media</th>\n",
              "      <th>media_absoluta</th>\n",
              "      <th>mediana</th>\n",
              "      <th>mediana_absoluta</th>\n",
              "      <th>rms</th>\n",
              "      <th>std</th>\n",
              "      <th>varianza</th>\n",
              "      <th>kurtosis</th>\n",
              "      <th>skewness</th>\n",
              "      <th>cruce_cero</th>\n",
              "      <th>percentil0</th>\n",
              "      <th>percentil1</th>\n",
              "      <th>percentil2</th>\n",
              "      <th>percentil3</th>\n",
              "      <th>percentil4</th>\n",
              "      <th>percentil5</th>\n",
              "      <th>percentil6</th>\n",
              "      <th>percentil7</th>\n",
              "      <th>percentil8</th>\n",
              "      <th>percentil9</th>\n",
              "      <th>percentil10</th>\n",
              "      <th>energia_spect</th>\n",
              "      <th>max_frec</th>\n",
              "      <th>clase</th>\n",
              "    </tr>\n",
              "  </thead>\n",
              "  <tbody>\n",
              "    <tr>\n",
              "      <th>0</th>\n",
              "      <td>data_original1_0001_s00.wav</td>\n",
              "      <td>-0.000830</td>\n",
              "      <td>0.024475</td>\n",
              "      <td>-0.000824</td>\n",
              "      <td>0.054316</td>\n",
              "      <td>0.071308</td>\n",
              "      <td>0.087267</td>\n",
              "      <td>0.007616</td>\n",
              "      <td>3.306944</td>\n",
              "      <td>0.492705</td>\n",
              "      <td>26317.0</td>\n",
              "      <td>-0.491669</td>\n",
              "      <td>-0.102145</td>\n",
              "      <td>-0.050201</td>\n",
              "      <td>-0.017517</td>\n",
              "      <td>-0.004242</td>\n",
              "      <td>-0.000824</td>\n",
              "      <td>0.002014</td>\n",
              "      <td>0.007538</td>\n",
              "      <td>0.035339</td>\n",
              "      <td>0.102325</td>\n",
              "      <td>0.612396</td>\n",
              "      <td>0.021406</td>\n",
              "      <td>2944.0</td>\n",
              "      <td>0</td>\n",
              "    </tr>\n",
              "    <tr>\n",
              "      <th>1</th>\n",
              "      <td>data_original1_0002_s00.wav</td>\n",
              "      <td>-0.000550</td>\n",
              "      <td>0.028992</td>\n",
              "      <td>-0.000671</td>\n",
              "      <td>0.055377</td>\n",
              "      <td>0.071874</td>\n",
              "      <td>0.085361</td>\n",
              "      <td>0.007287</td>\n",
              "      <td>2.410013</td>\n",
              "      <td>0.410182</td>\n",
              "      <td>23520.0</td>\n",
              "      <td>-0.415405</td>\n",
              "      <td>-0.103485</td>\n",
              "      <td>-0.053528</td>\n",
              "      <td>-0.019958</td>\n",
              "      <td>-0.004883</td>\n",
              "      <td>-0.000671</td>\n",
              "      <td>0.002625</td>\n",
              "      <td>0.011230</td>\n",
              "      <td>0.042328</td>\n",
              "      <td>0.104309</td>\n",
              "      <td>0.546204</td>\n",
              "      <td>0.019570</td>\n",
              "      <td>3679.0</td>\n",
              "      <td>0</td>\n",
              "    </tr>\n",
              "    <tr>\n",
              "      <th>2</th>\n",
              "      <td>data_original1_0003_s00.wav</td>\n",
              "      <td>0.002821</td>\n",
              "      <td>0.052185</td>\n",
              "      <td>0.000397</td>\n",
              "      <td>0.083982</td>\n",
              "      <td>0.106171</td>\n",
              "      <td>0.127086</td>\n",
              "      <td>0.016151</td>\n",
              "      <td>2.457605</td>\n",
              "      <td>-0.337466</td>\n",
              "      <td>22655.0</td>\n",
              "      <td>-0.841522</td>\n",
              "      <td>-0.137177</td>\n",
              "      <td>-0.069427</td>\n",
              "      <td>-0.025208</td>\n",
              "      <td>-0.004303</td>\n",
              "      <td>0.000397</td>\n",
              "      <td>0.006348</td>\n",
              "      <td>0.034973</td>\n",
              "      <td>0.086096</td>\n",
              "      <td>0.156921</td>\n",
              "      <td>0.689453</td>\n",
              "      <td>0.017571</td>\n",
              "      <td>5124.0</td>\n",
              "      <td>0</td>\n",
              "    </tr>\n",
              "    <tr>\n",
              "      <th>3</th>\n",
              "      <td>data_original1_0004_s00.wav</td>\n",
              "      <td>0.002699</td>\n",
              "      <td>0.062958</td>\n",
              "      <td>0.001434</td>\n",
              "      <td>0.091461</td>\n",
              "      <td>0.116961</td>\n",
              "      <td>0.133240</td>\n",
              "      <td>0.017753</td>\n",
              "      <td>2.330213</td>\n",
              "      <td>-0.423787</td>\n",
              "      <td>26064.0</td>\n",
              "      <td>-0.847504</td>\n",
              "      <td>-0.158325</td>\n",
              "      <td>-0.079315</td>\n",
              "      <td>-0.029144</td>\n",
              "      <td>-0.003876</td>\n",
              "      <td>0.001434</td>\n",
              "      <td>0.015503</td>\n",
              "      <td>0.051422</td>\n",
              "      <td>0.095306</td>\n",
              "      <td>0.156189</td>\n",
              "      <td>0.673950</td>\n",
              "      <td>0.028427</td>\n",
              "      <td>4346.0</td>\n",
              "      <td>0</td>\n",
              "    </tr>\n",
              "    <tr>\n",
              "      <th>4</th>\n",
              "      <td>data_original1_0005_s00.wav</td>\n",
              "      <td>-0.000354</td>\n",
              "      <td>0.062561</td>\n",
              "      <td>-0.000275</td>\n",
              "      <td>0.092237</td>\n",
              "      <td>0.118884</td>\n",
              "      <td>0.132588</td>\n",
              "      <td>0.017579</td>\n",
              "      <td>2.085448</td>\n",
              "      <td>-0.001486</td>\n",
              "      <td>25055.0</td>\n",
              "      <td>-0.817627</td>\n",
              "      <td>-0.157715</td>\n",
              "      <td>-0.087189</td>\n",
              "      <td>-0.043182</td>\n",
              "      <td>-0.013062</td>\n",
              "      <td>-0.000275</td>\n",
              "      <td>0.011658</td>\n",
              "      <td>0.041962</td>\n",
              "      <td>0.086700</td>\n",
              "      <td>0.157654</td>\n",
              "      <td>0.860596</td>\n",
              "      <td>0.022101</td>\n",
              "      <td>4561.0</td>\n",
              "      <td>0</td>\n",
              "    </tr>\n",
              "  </tbody>\n",
              "</table>\n",
              "</div>\n",
              "      <button class=\"colab-df-convert\" onclick=\"convertToInteractive('df-01c2172f-4a63-4fd9-9181-619ba507031f')\"\n",
              "              title=\"Convert this dataframe to an interactive table.\"\n",
              "              style=\"display:none;\">\n",
              "        \n",
              "  <svg xmlns=\"http://www.w3.org/2000/svg\" height=\"24px\"viewBox=\"0 0 24 24\"\n",
              "       width=\"24px\">\n",
              "    <path d=\"M0 0h24v24H0V0z\" fill=\"none\"/>\n",
              "    <path d=\"M18.56 5.44l.94 2.06.94-2.06 2.06-.94-2.06-.94-.94-2.06-.94 2.06-2.06.94zm-11 1L8.5 8.5l.94-2.06 2.06-.94-2.06-.94L8.5 2.5l-.94 2.06-2.06.94zm10 10l.94 2.06.94-2.06 2.06-.94-2.06-.94-.94-2.06-.94 2.06-2.06.94z\"/><path d=\"M17.41 7.96l-1.37-1.37c-.4-.4-.92-.59-1.43-.59-.52 0-1.04.2-1.43.59L10.3 9.45l-7.72 7.72c-.78.78-.78 2.05 0 2.83L4 21.41c.39.39.9.59 1.41.59.51 0 1.02-.2 1.41-.59l7.78-7.78 2.81-2.81c.8-.78.8-2.07 0-2.86zM5.41 20L4 18.59l7.72-7.72 1.47 1.35L5.41 20z\"/>\n",
              "  </svg>\n",
              "      </button>\n",
              "      \n",
              "  <style>\n",
              "    .colab-df-container {\n",
              "      display:flex;\n",
              "      flex-wrap:wrap;\n",
              "      gap: 12px;\n",
              "    }\n",
              "\n",
              "    .colab-df-convert {\n",
              "      background-color: #E8F0FE;\n",
              "      border: none;\n",
              "      border-radius: 50%;\n",
              "      cursor: pointer;\n",
              "      display: none;\n",
              "      fill: #1967D2;\n",
              "      height: 32px;\n",
              "      padding: 0 0 0 0;\n",
              "      width: 32px;\n",
              "    }\n",
              "\n",
              "    .colab-df-convert:hover {\n",
              "      background-color: #E2EBFA;\n",
              "      box-shadow: 0px 1px 2px rgba(60, 64, 67, 0.3), 0px 1px 3px 1px rgba(60, 64, 67, 0.15);\n",
              "      fill: #174EA6;\n",
              "    }\n",
              "\n",
              "    [theme=dark] .colab-df-convert {\n",
              "      background-color: #3B4455;\n",
              "      fill: #D2E3FC;\n",
              "    }\n",
              "\n",
              "    [theme=dark] .colab-df-convert:hover {\n",
              "      background-color: #434B5C;\n",
              "      box-shadow: 0px 1px 3px 1px rgba(0, 0, 0, 0.15);\n",
              "      filter: drop-shadow(0px 1px 2px rgba(0, 0, 0, 0.3));\n",
              "      fill: #FFFFFF;\n",
              "    }\n",
              "  </style>\n",
              "\n",
              "      <script>\n",
              "        const buttonEl =\n",
              "          document.querySelector('#df-01c2172f-4a63-4fd9-9181-619ba507031f button.colab-df-convert');\n",
              "        buttonEl.style.display =\n",
              "          google.colab.kernel.accessAllowed ? 'block' : 'none';\n",
              "\n",
              "        async function convertToInteractive(key) {\n",
              "          const element = document.querySelector('#df-01c2172f-4a63-4fd9-9181-619ba507031f');\n",
              "          const dataTable =\n",
              "            await google.colab.kernel.invokeFunction('convertToInteractive',\n",
              "                                                     [key], {});\n",
              "          if (!dataTable) return;\n",
              "\n",
              "          const docLinkHtml = 'Like what you see? Visit the ' +\n",
              "            '<a target=\"_blank\" href=https://colab.research.google.com/notebooks/data_table.ipynb>data table notebook</a>'\n",
              "            + ' to learn more about interactive tables.';\n",
              "          element.innerHTML = '';\n",
              "          dataTable['output_type'] = 'display_data';\n",
              "          await google.colab.output.renderOutput(dataTable, element);\n",
              "          const docLink = document.createElement('div');\n",
              "          docLink.innerHTML = docLinkHtml;\n",
              "          element.appendChild(docLink);\n",
              "        }\n",
              "      </script>\n",
              "    </div>\n",
              "  </div>\n",
              "  "
            ],
            "text/plain": [
              "                            id     media  ...  max_frec  clase\n",
              "0  data_original1_0001_s00.wav -0.000830  ...    2944.0      0\n",
              "1  data_original1_0002_s00.wav -0.000550  ...    3679.0      0\n",
              "2  data_original1_0003_s00.wav  0.002821  ...    5124.0      0\n",
              "3  data_original1_0004_s00.wav  0.002699  ...    4346.0      0\n",
              "4  data_original1_0005_s00.wav -0.000354  ...    4561.0      0\n",
              "\n",
              "[5 rows x 25 columns]"
            ]
          },
          "metadata": {},
          "execution_count": 4
        }
      ]
    },
    {
      "cell_type": "code",
      "source": [
        "df.shape"
      ],
      "metadata": {
        "colab": {
          "base_uri": "https://localhost:8080/"
        },
        "id": "Ekrxgm5VvucK",
        "outputId": "6ea85282-9f6a-43c6-c3be-3687e5d3d33e"
      },
      "execution_count": null,
      "outputs": [
        {
          "output_type": "execute_result",
          "data": {
            "text/plain": [
              "(22484, 25)"
            ]
          },
          "metadata": {},
          "execution_count": 5
        }
      ]
    },
    {
      "cell_type": "markdown",
      "source": [
        "## 2) Getting X and Y"
      ],
      "metadata": {
        "id": "071EZmm7wM6T"
      }
    },
    {
      "cell_type": "code",
      "source": [
        "# Getting X and Y \n",
        "X = df.drop(['id', 'clase'],axis=1) # select all columns except 'id' and 'clase'\n",
        "X.head()"
      ],
      "metadata": {
        "colab": {
          "base_uri": "https://localhost:8080/",
          "height": 270
        },
        "id": "BFcGnHqWwMT7",
        "outputId": "bf180b2e-9e03-47ae-d143-8bedeec52473"
      },
      "execution_count": null,
      "outputs": [
        {
          "output_type": "execute_result",
          "data": {
            "text/html": [
              "\n",
              "  <div id=\"df-ed819a81-ea3a-4f91-bcfd-d7fdc0ed60d1\">\n",
              "    <div class=\"colab-df-container\">\n",
              "      <div>\n",
              "<style scoped>\n",
              "    .dataframe tbody tr th:only-of-type {\n",
              "        vertical-align: middle;\n",
              "    }\n",
              "\n",
              "    .dataframe tbody tr th {\n",
              "        vertical-align: top;\n",
              "    }\n",
              "\n",
              "    .dataframe thead th {\n",
              "        text-align: right;\n",
              "    }\n",
              "</style>\n",
              "<table border=\"1\" class=\"dataframe\">\n",
              "  <thead>\n",
              "    <tr style=\"text-align: right;\">\n",
              "      <th></th>\n",
              "      <th>media</th>\n",
              "      <th>media_absoluta</th>\n",
              "      <th>mediana</th>\n",
              "      <th>mediana_absoluta</th>\n",
              "      <th>rms</th>\n",
              "      <th>std</th>\n",
              "      <th>varianza</th>\n",
              "      <th>kurtosis</th>\n",
              "      <th>skewness</th>\n",
              "      <th>cruce_cero</th>\n",
              "      <th>percentil0</th>\n",
              "      <th>percentil1</th>\n",
              "      <th>percentil2</th>\n",
              "      <th>percentil3</th>\n",
              "      <th>percentil4</th>\n",
              "      <th>percentil5</th>\n",
              "      <th>percentil6</th>\n",
              "      <th>percentil7</th>\n",
              "      <th>percentil8</th>\n",
              "      <th>percentil9</th>\n",
              "      <th>percentil10</th>\n",
              "      <th>energia_spect</th>\n",
              "      <th>max_frec</th>\n",
              "    </tr>\n",
              "  </thead>\n",
              "  <tbody>\n",
              "    <tr>\n",
              "      <th>0</th>\n",
              "      <td>-0.000830</td>\n",
              "      <td>0.024475</td>\n",
              "      <td>-0.000824</td>\n",
              "      <td>0.054316</td>\n",
              "      <td>0.071308</td>\n",
              "      <td>0.087267</td>\n",
              "      <td>0.007616</td>\n",
              "      <td>3.306944</td>\n",
              "      <td>0.492705</td>\n",
              "      <td>26317.0</td>\n",
              "      <td>-0.491669</td>\n",
              "      <td>-0.102145</td>\n",
              "      <td>-0.050201</td>\n",
              "      <td>-0.017517</td>\n",
              "      <td>-0.004242</td>\n",
              "      <td>-0.000824</td>\n",
              "      <td>0.002014</td>\n",
              "      <td>0.007538</td>\n",
              "      <td>0.035339</td>\n",
              "      <td>0.102325</td>\n",
              "      <td>0.612396</td>\n",
              "      <td>0.021406</td>\n",
              "      <td>2944.0</td>\n",
              "    </tr>\n",
              "    <tr>\n",
              "      <th>1</th>\n",
              "      <td>-0.000550</td>\n",
              "      <td>0.028992</td>\n",
              "      <td>-0.000671</td>\n",
              "      <td>0.055377</td>\n",
              "      <td>0.071874</td>\n",
              "      <td>0.085361</td>\n",
              "      <td>0.007287</td>\n",
              "      <td>2.410013</td>\n",
              "      <td>0.410182</td>\n",
              "      <td>23520.0</td>\n",
              "      <td>-0.415405</td>\n",
              "      <td>-0.103485</td>\n",
              "      <td>-0.053528</td>\n",
              "      <td>-0.019958</td>\n",
              "      <td>-0.004883</td>\n",
              "      <td>-0.000671</td>\n",
              "      <td>0.002625</td>\n",
              "      <td>0.011230</td>\n",
              "      <td>0.042328</td>\n",
              "      <td>0.104309</td>\n",
              "      <td>0.546204</td>\n",
              "      <td>0.019570</td>\n",
              "      <td>3679.0</td>\n",
              "    </tr>\n",
              "    <tr>\n",
              "      <th>2</th>\n",
              "      <td>0.002821</td>\n",
              "      <td>0.052185</td>\n",
              "      <td>0.000397</td>\n",
              "      <td>0.083982</td>\n",
              "      <td>0.106171</td>\n",
              "      <td>0.127086</td>\n",
              "      <td>0.016151</td>\n",
              "      <td>2.457605</td>\n",
              "      <td>-0.337466</td>\n",
              "      <td>22655.0</td>\n",
              "      <td>-0.841522</td>\n",
              "      <td>-0.137177</td>\n",
              "      <td>-0.069427</td>\n",
              "      <td>-0.025208</td>\n",
              "      <td>-0.004303</td>\n",
              "      <td>0.000397</td>\n",
              "      <td>0.006348</td>\n",
              "      <td>0.034973</td>\n",
              "      <td>0.086096</td>\n",
              "      <td>0.156921</td>\n",
              "      <td>0.689453</td>\n",
              "      <td>0.017571</td>\n",
              "      <td>5124.0</td>\n",
              "    </tr>\n",
              "    <tr>\n",
              "      <th>3</th>\n",
              "      <td>0.002699</td>\n",
              "      <td>0.062958</td>\n",
              "      <td>0.001434</td>\n",
              "      <td>0.091461</td>\n",
              "      <td>0.116961</td>\n",
              "      <td>0.133240</td>\n",
              "      <td>0.017753</td>\n",
              "      <td>2.330213</td>\n",
              "      <td>-0.423787</td>\n",
              "      <td>26064.0</td>\n",
              "      <td>-0.847504</td>\n",
              "      <td>-0.158325</td>\n",
              "      <td>-0.079315</td>\n",
              "      <td>-0.029144</td>\n",
              "      <td>-0.003876</td>\n",
              "      <td>0.001434</td>\n",
              "      <td>0.015503</td>\n",
              "      <td>0.051422</td>\n",
              "      <td>0.095306</td>\n",
              "      <td>0.156189</td>\n",
              "      <td>0.673950</td>\n",
              "      <td>0.028427</td>\n",
              "      <td>4346.0</td>\n",
              "    </tr>\n",
              "    <tr>\n",
              "      <th>4</th>\n",
              "      <td>-0.000354</td>\n",
              "      <td>0.062561</td>\n",
              "      <td>-0.000275</td>\n",
              "      <td>0.092237</td>\n",
              "      <td>0.118884</td>\n",
              "      <td>0.132588</td>\n",
              "      <td>0.017579</td>\n",
              "      <td>2.085448</td>\n",
              "      <td>-0.001486</td>\n",
              "      <td>25055.0</td>\n",
              "      <td>-0.817627</td>\n",
              "      <td>-0.157715</td>\n",
              "      <td>-0.087189</td>\n",
              "      <td>-0.043182</td>\n",
              "      <td>-0.013062</td>\n",
              "      <td>-0.000275</td>\n",
              "      <td>0.011658</td>\n",
              "      <td>0.041962</td>\n",
              "      <td>0.086700</td>\n",
              "      <td>0.157654</td>\n",
              "      <td>0.860596</td>\n",
              "      <td>0.022101</td>\n",
              "      <td>4561.0</td>\n",
              "    </tr>\n",
              "  </tbody>\n",
              "</table>\n",
              "</div>\n",
              "      <button class=\"colab-df-convert\" onclick=\"convertToInteractive('df-ed819a81-ea3a-4f91-bcfd-d7fdc0ed60d1')\"\n",
              "              title=\"Convert this dataframe to an interactive table.\"\n",
              "              style=\"display:none;\">\n",
              "        \n",
              "  <svg xmlns=\"http://www.w3.org/2000/svg\" height=\"24px\"viewBox=\"0 0 24 24\"\n",
              "       width=\"24px\">\n",
              "    <path d=\"M0 0h24v24H0V0z\" fill=\"none\"/>\n",
              "    <path d=\"M18.56 5.44l.94 2.06.94-2.06 2.06-.94-2.06-.94-.94-2.06-.94 2.06-2.06.94zm-11 1L8.5 8.5l.94-2.06 2.06-.94-2.06-.94L8.5 2.5l-.94 2.06-2.06.94zm10 10l.94 2.06.94-2.06 2.06-.94-2.06-.94-.94-2.06-.94 2.06-2.06.94z\"/><path d=\"M17.41 7.96l-1.37-1.37c-.4-.4-.92-.59-1.43-.59-.52 0-1.04.2-1.43.59L10.3 9.45l-7.72 7.72c-.78.78-.78 2.05 0 2.83L4 21.41c.39.39.9.59 1.41.59.51 0 1.02-.2 1.41-.59l7.78-7.78 2.81-2.81c.8-.78.8-2.07 0-2.86zM5.41 20L4 18.59l7.72-7.72 1.47 1.35L5.41 20z\"/>\n",
              "  </svg>\n",
              "      </button>\n",
              "      \n",
              "  <style>\n",
              "    .colab-df-container {\n",
              "      display:flex;\n",
              "      flex-wrap:wrap;\n",
              "      gap: 12px;\n",
              "    }\n",
              "\n",
              "    .colab-df-convert {\n",
              "      background-color: #E8F0FE;\n",
              "      border: none;\n",
              "      border-radius: 50%;\n",
              "      cursor: pointer;\n",
              "      display: none;\n",
              "      fill: #1967D2;\n",
              "      height: 32px;\n",
              "      padding: 0 0 0 0;\n",
              "      width: 32px;\n",
              "    }\n",
              "\n",
              "    .colab-df-convert:hover {\n",
              "      background-color: #E2EBFA;\n",
              "      box-shadow: 0px 1px 2px rgba(60, 64, 67, 0.3), 0px 1px 3px 1px rgba(60, 64, 67, 0.15);\n",
              "      fill: #174EA6;\n",
              "    }\n",
              "\n",
              "    [theme=dark] .colab-df-convert {\n",
              "      background-color: #3B4455;\n",
              "      fill: #D2E3FC;\n",
              "    }\n",
              "\n",
              "    [theme=dark] .colab-df-convert:hover {\n",
              "      background-color: #434B5C;\n",
              "      box-shadow: 0px 1px 3px 1px rgba(0, 0, 0, 0.15);\n",
              "      filter: drop-shadow(0px 1px 2px rgba(0, 0, 0, 0.3));\n",
              "      fill: #FFFFFF;\n",
              "    }\n",
              "  </style>\n",
              "\n",
              "      <script>\n",
              "        const buttonEl =\n",
              "          document.querySelector('#df-ed819a81-ea3a-4f91-bcfd-d7fdc0ed60d1 button.colab-df-convert');\n",
              "        buttonEl.style.display =\n",
              "          google.colab.kernel.accessAllowed ? 'block' : 'none';\n",
              "\n",
              "        async function convertToInteractive(key) {\n",
              "          const element = document.querySelector('#df-ed819a81-ea3a-4f91-bcfd-d7fdc0ed60d1');\n",
              "          const dataTable =\n",
              "            await google.colab.kernel.invokeFunction('convertToInteractive',\n",
              "                                                     [key], {});\n",
              "          if (!dataTable) return;\n",
              "\n",
              "          const docLinkHtml = 'Like what you see? Visit the ' +\n",
              "            '<a target=\"_blank\" href=https://colab.research.google.com/notebooks/data_table.ipynb>data table notebook</a>'\n",
              "            + ' to learn more about interactive tables.';\n",
              "          element.innerHTML = '';\n",
              "          dataTable['output_type'] = 'display_data';\n",
              "          await google.colab.output.renderOutput(dataTable, element);\n",
              "          const docLink = document.createElement('div');\n",
              "          docLink.innerHTML = docLinkHtml;\n",
              "          element.appendChild(docLink);\n",
              "        }\n",
              "      </script>\n",
              "    </div>\n",
              "  </div>\n",
              "  "
            ],
            "text/plain": [
              "      media  media_absoluta   mediana  ...  percentil10  energia_spect  max_frec\n",
              "0 -0.000830        0.024475 -0.000824  ...     0.612396       0.021406    2944.0\n",
              "1 -0.000550        0.028992 -0.000671  ...     0.546204       0.019570    3679.0\n",
              "2  0.002821        0.052185  0.000397  ...     0.689453       0.017571    5124.0\n",
              "3  0.002699        0.062958  0.001434  ...     0.673950       0.028427    4346.0\n",
              "4 -0.000354        0.062561 -0.000275  ...     0.860596       0.022101    4561.0\n",
              "\n",
              "[5 rows x 23 columns]"
            ]
          },
          "metadata": {},
          "execution_count": 9
        }
      ]
    },
    {
      "cell_type": "code",
      "source": [
        "y = df['clase']\n",
        "y.head()"
      ],
      "metadata": {
        "colab": {
          "base_uri": "https://localhost:8080/"
        },
        "id": "JB0vMg3Jv3Se",
        "outputId": "55110b2e-f90c-43b9-92c5-7853c109a74e"
      },
      "execution_count": null,
      "outputs": [
        {
          "output_type": "execute_result",
          "data": {
            "text/plain": [
              "0    0\n",
              "1    0\n",
              "2    0\n",
              "3    0\n",
              "4    0\n",
              "Name: clase, dtype: int64"
            ]
          },
          "metadata": {},
          "execution_count": 10
        }
      ]
    },
    {
      "cell_type": "markdown",
      "source": [
        "## 3) Train -test split"
      ],
      "metadata": {
        "id": "54OunvHb0iy8"
      }
    },
    {
      "cell_type": "code",
      "source": [
        "from sklearn.model_selection import train_test_split"
      ],
      "metadata": {
        "id": "s_idQh_a0iiY"
      },
      "execution_count": null,
      "outputs": []
    },
    {
      "cell_type": "code",
      "source": [
        "X_train, X_test, y_train, y_test = train_test_split(X, y, train_size=0.75) "
      ],
      "metadata": {
        "id": "llvOktnax5pL"
      },
      "execution_count": null,
      "outputs": []
    },
    {
      "cell_type": "code",
      "source": [
        "y_train.shape"
      ],
      "metadata": {
        "colab": {
          "base_uri": "https://localhost:8080/"
        },
        "id": "AKl8NX-H0wUy",
        "outputId": "27135c71-bcb5-46b3-85b3-bddcaa179741"
      },
      "execution_count": null,
      "outputs": [
        {
          "output_type": "execute_result",
          "data": {
            "text/plain": [
              "(16863,)"
            ]
          },
          "metadata": {},
          "execution_count": 13
        }
      ]
    },
    {
      "cell_type": "code",
      "source": [
        "X_train.shape"
      ],
      "metadata": {
        "colab": {
          "base_uri": "https://localhost:8080/"
        },
        "id": "__pGcxe20wRp",
        "outputId": "28c020f3-ef70-447c-d36e-5e97ddd0f5ce"
      },
      "execution_count": null,
      "outputs": [
        {
          "output_type": "execute_result",
          "data": {
            "text/plain": [
              "(16863, 23)"
            ]
          },
          "metadata": {},
          "execution_count": 14
        }
      ]
    },
    {
      "cell_type": "code",
      "source": [
        "# Verify spplited data is balanced \n",
        "y_train.groupby(y_train).count()"
      ],
      "metadata": {
        "colab": {
          "base_uri": "https://localhost:8080/"
        },
        "id": "FE2zEAxp0wH5",
        "outputId": "9843d1e9-c45f-436c-a508-d4d2d92d0323"
      },
      "execution_count": null,
      "outputs": [
        {
          "output_type": "execute_result",
          "data": {
            "text/plain": [
              "clase\n",
              "0     1502\n",
              "1     1531\n",
              "2     1519\n",
              "3     1533\n",
              "4     1533\n",
              "5     1526\n",
              "6     1558\n",
              "7     1542\n",
              "8     1514\n",
              "9     1549\n",
              "10    1556\n",
              "Name: clase, dtype: int64"
            ]
          },
          "metadata": {},
          "execution_count": 21
        }
      ]
    },
    {
      "cell_type": "markdown",
      "source": [
        "## 4) Normalize data "
      ],
      "metadata": {
        "id": "5o-ww1tM5TIm"
      }
    },
    {
      "cell_type": "code",
      "source": [
        "from sklearn.preprocessing import StandardScaler"
      ],
      "metadata": {
        "id": "Tzbf3qRB5Smi"
      },
      "execution_count": null,
      "outputs": []
    },
    {
      "cell_type": "code",
      "source": [
        "scaler = StandardScaler()\n",
        "# Fit only to the training data\n",
        "scaler.fit(X_train)"
      ],
      "metadata": {
        "colab": {
          "base_uri": "https://localhost:8080/"
        },
        "id": "9WWW12m50v9C",
        "outputId": "9e2fa362-d54a-4243-b519-4e487f83ea5b"
      },
      "execution_count": null,
      "outputs": [
        {
          "output_type": "execute_result",
          "data": {
            "text/plain": [
              "StandardScaler()"
            ]
          },
          "metadata": {},
          "execution_count": 23
        }
      ]
    },
    {
      "cell_type": "code",
      "source": [
        "# Now apply the transformations to the data:\n",
        "X_train = scaler.transform(X_train) # 2D array\n",
        "X_test = scaler.transform(X_test) # 2D array"
      ],
      "metadata": {
        "id": "t_cXlIRA0v0c"
      },
      "execution_count": null,
      "outputs": []
    },
    {
      "cell_type": "markdown",
      "source": [
        "## 5) Training the model"
      ],
      "metadata": {
        "id": "zKa-e0Rp7dnO"
      }
    },
    {
      "cell_type": "code",
      "source": [
        "from sklearn.neural_network import MLPClassifier"
      ],
      "metadata": {
        "id": "M6PB4V-77dCT"
      },
      "execution_count": null,
      "outputs": []
    },
    {
      "cell_type": "code",
      "source": [
        "mlp = MLPClassifier(hidden_layer_sizes=(10,10,10),max_iter=1500) # 3 hidden layers, with 13 neurons each "
      ],
      "metadata": {
        "id": "XnJe4EHM55Sc"
      },
      "execution_count": null,
      "outputs": []
    },
    {
      "cell_type": "code",
      "source": [
        "mlp.fit(X_train,y_train)"
      ],
      "metadata": {
        "colab": {
          "base_uri": "https://localhost:8080/"
        },
        "id": "CTv6J_dp76J2",
        "outputId": "db105ccf-ee44-42e8-8239-6e09e9f0a0c7"
      },
      "execution_count": null,
      "outputs": [
        {
          "output_type": "execute_result",
          "data": {
            "text/plain": [
              "MLPClassifier(hidden_layer_sizes=(10, 10, 10), max_iter=1500)"
            ]
          },
          "metadata": {},
          "execution_count": 30
        }
      ]
    },
    {
      "cell_type": "markdown",
      "source": [
        "## 6) Predictions and Evaluation"
      ],
      "metadata": {
        "id": "wTI3_xvP8dbU"
      }
    },
    {
      "cell_type": "code",
      "source": [
        "predictions = mlp.predict(X_test)"
      ],
      "metadata": {
        "id": "ttkd65YC8KR3"
      },
      "execution_count": null,
      "outputs": []
    },
    {
      "cell_type": "code",
      "source": [
        "from sklearn.metrics import classification_report"
      ],
      "metadata": {
        "id": "T35_vu5N8tO3"
      },
      "execution_count": null,
      "outputs": []
    },
    {
      "cell_type": "code",
      "source": [
        "print(classification_report(y_test,predictions))"
      ],
      "metadata": {
        "colab": {
          "base_uri": "https://localhost:8080/"
        },
        "id": "qQcz0ACj8yaz",
        "outputId": "9f8e6efe-b92c-4ee3-aa4c-8ef8ef64e936"
      },
      "execution_count": null,
      "outputs": [
        {
          "output_type": "stream",
          "name": "stdout",
          "text": [
            "              precision    recall  f1-score   support\n",
            "\n",
            "           0       1.00      0.94      0.97       542\n",
            "           1       1.00      1.00      1.00       513\n",
            "           2       1.00      1.00      1.00       525\n",
            "           3       1.00      1.00      1.00       511\n",
            "           4       1.00      1.00      1.00       511\n",
            "           5       0.99      1.00      1.00       518\n",
            "           6       0.99      1.00      1.00       486\n",
            "           7       0.96      1.00      0.98       502\n",
            "           8       1.00      1.00      1.00       530\n",
            "           9       1.00      1.00      1.00       495\n",
            "          10       1.00      1.00      1.00       488\n",
            "\n",
            "    accuracy                           0.99      5621\n",
            "   macro avg       0.99      0.99      0.99      5621\n",
            "weighted avg       0.99      0.99      0.99      5621\n",
            "\n"
          ]
        }
      ]
    },
    {
      "cell_type": "code",
      "source": [
        "y_test"
      ],
      "metadata": {
        "colab": {
          "base_uri": "https://localhost:8080/"
        },
        "id": "8CfSZK6y819w",
        "outputId": "28691453-c56b-4108-952a-1c1a1b2b7b44"
      },
      "execution_count": null,
      "outputs": [
        {
          "output_type": "execute_result",
          "data": {
            "text/plain": [
              "14090     5\n",
              "5750     10\n",
              "753       8\n",
              "6172      3\n",
              "10776     6\n",
              "         ..\n",
              "5221     10\n",
              "14663     9\n",
              "12336     8\n",
              "4983     10\n",
              "22471     0\n",
              "Name: clase, Length: 5621, dtype: int64"
            ]
          },
          "metadata": {},
          "execution_count": 34
        }
      ]
    },
    {
      "cell_type": "code",
      "source": [
        "predictions"
      ],
      "metadata": {
        "colab": {
          "base_uri": "https://localhost:8080/"
        },
        "id": "1CwY_iIp8-6Q",
        "outputId": "84e0a082-6ca1-4fe1-b07f-e1b250ed6ea2"
      },
      "execution_count": null,
      "outputs": [
        {
          "output_type": "execute_result",
          "data": {
            "text/plain": [
              "array([ 5, 10,  8, ...,  8, 10,  6])"
            ]
          },
          "metadata": {},
          "execution_count": 35
        }
      ]
    },
    {
      "cell_type": "code",
      "source": [
        "len(predictions)"
      ],
      "metadata": {
        "colab": {
          "base_uri": "https://localhost:8080/"
        },
        "id": "WIQ8vw-f9CaO",
        "outputId": "2db73851-1111-4630-8b1d-7f6146bedb3d"
      },
      "execution_count": null,
      "outputs": [
        {
          "output_type": "execute_result",
          "data": {
            "text/plain": [
              "5621"
            ]
          },
          "metadata": {},
          "execution_count": 36
        }
      ]
    },
    {
      "cell_type": "code",
      "source": [
        ""
      ],
      "metadata": {
        "id": "-X3XSoBs9J0q"
      },
      "execution_count": null,
      "outputs": []
    }
  ]
}